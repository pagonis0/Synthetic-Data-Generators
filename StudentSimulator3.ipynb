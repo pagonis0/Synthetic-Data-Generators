{
 "cells": [
  {
   "cell_type": "code",
   "execution_count": 2,
   "id": "7fe4574e-1054-4351-9569-356518e496bf",
   "metadata": {
    "tags": []
   },
   "outputs": [],
   "source": [
    "import psycopg2\n",
    "import pandas as pd\n",
    "import numpy as np\n",
    "import scipy.stats as stats\n",
    "import matplotlib.pyplot as plt\n",
    "import seaborn as sns\n",
    "from datetime import date\n",
    "import statsmodels.api as sm\n",
    "from statsmodels.formula.api import ols\n",
    "from distfit import distfit\n",
    "from statsmodels.tsa.arima.model import ARIMA, ARIMAResults\n",
    "from statsmodels.tsa import forecasting\n",
    "from statsmodels.tsa.stattools import adfuller, acf\n",
    "from statsmodels.graphics.tsaplots import plot_acf, plot_pacf, plot_predict\n",
    "from pmdarima.arima.utils import ndiffs\n",
    "from statsmodels.tsa.stattools import acf\n",
    "from scipy.stats import bootstrap\n",
    "from sklearn.model_selection import train_test_split"
   ]
  },
  {
   "cell_type": "code",
   "execution_count": 3,
   "id": "f9131028-f1f5-4f28-9c48-6984e56f3fbb",
   "metadata": {},
   "outputs": [],
   "source": [
    "pd.set_option('display.max_columns', None)\n",
    "pd.set_option('display.max_rows', None)"
   ]
  },
  {
   "cell_type": "code",
   "execution_count": 4,
   "id": "05401686-b7e3-42d4-b4c5-5d2b33027fee",
   "metadata": {},
   "outputs": [],
   "source": [
    "df1 = pd.read_csv('grades_history_trimmed.csv')\n",
    "df2 = pd.read_csv('grades_trimmed.csv')\n",
    "\n",
    "df1_1 = df1.drop(['Unnamed: 0', 'id', 'oldid', 'source', 'loggeduser', 'rawscaleid', 'usermodified',\n",
    "                  'finalgrade', 'overriden', 'feedback', 'feedbackformat',\n",
    "                  'year_month', 'action', 'grade_cat'], axis=1)\n",
    "df2_2 = df2.drop(['Unnamed: 0', 'id', 'rawscaleid', 'usermodified', 'agreegationstatus',\n",
    "                  'finalgrade', 'overriden', 'feedback', 'feedbackformat',\n",
    "                  'agreegationweight', 'time_created', 'grade_cat', 'timecreated'], axis=1)\n",
    "\n",
    "df1_1 = df1_1.reindex(sorted(df1_1.columns), axis=1)\n",
    "df2_2 = df2_2.reindex(sorted(df2_2.columns), axis=1)\n",
    "df = pd.concat([df1_1, df2_2])"
   ]
  },
  {
   "cell_type": "code",
   "execution_count": 5,
   "id": "9de1204e-3b0f-449a-b107-598237ff2bb4",
   "metadata": {},
   "outputs": [],
   "source": [
    "conn = psycopg2.connect(dbname='primuss_fhin',\n",
    "                            user='thisuccess',\n",
    "                            password='5N7vcG!8FD%',\n",
    "                            host='194.94.97.25',\n",
    "                            port='8890')\n",
    "\n",
    "cur = conn.cursor()\n",
    "cur.execute(\"SELECT * FROM moodle.mdl21_grade_items\")\n",
    "\n",
    "records = cur.fetchall()\n",
    "\n",
    "cur.close()\n",
    "conn.close()\n",
    "\n",
    "headers = ['id', 'courseid', 'categoryid', 'itemname', 'itemtype', 'itemmodule', 'iteminstance', 'itemnumber',\n",
    "           'iteminfo', 'idnumber', 'calculation', 'gradetype', 'grademax', 'grademin', 'scaleid',\n",
    "           'outcomeid', 'gradepass', 'multfactor', 'plusfactor', 'aggregationcoef', 'sortorder', 'display',\n",
    "           'decimals', 'hidden', 'locked', 'locktime', 'needsupdate',\n",
    "           'timecreated', 'timemodified', 'aggregationcoef2', 'weightoverride']\n",
    "\n",
    "grade_items = pd.DataFrame(records, columns = headers)\n",
    "grade_items = grade_items.reset_index()"
   ]
  },
  {
   "cell_type": "code",
   "execution_count": 6,
   "id": "bbbb22ea-d7c4-4611-b044-dd2eb55562ec",
   "metadata": {},
   "outputs": [],
   "source": [
    "course_dict = {grade_items['id'][i]:grade_items['courseid'][i] for i in range(len(grade_items))}\n",
    "df['course'] = df['itemid'].replace(course_dict)"
   ]
  },
  {
   "cell_type": "code",
   "execution_count": 7,
   "id": "affd582c-75bc-412e-b448-88b78fdbe89b",
   "metadata": {},
   "outputs": [
    {
     "name": "stderr",
     "output_type": "stream",
     "text": [
      "100%|█████████████████████████████████████████| 137/137 [18:20<00:00,  8.03s/it]\n"
     ]
    }
   ],
   "source": [
    "from tqdm import tqdm\n",
    "\n",
    "user_df = df[['grade', 'itemid', 'time_modified', 'timemodified', 'userid', 'year', 'course']]\n",
    "\n",
    "user_df = user_df.sort_values('time_modified', ascending=True).groupby('userid')    \n",
    "\n",
    "all_dataframes = []\n",
    "all_dataframes_grades = []\n",
    "user_df = df[['grade', 'itemid', 'time_modified', 'timemodified', 'userid', 'year', 'course']]\n",
    "\n",
    "user_df = user_df.sort_values('time_modified', ascending=True).groupby('userid') \n",
    "rg = user_df.size().max()-1\n",
    "\n",
    "for i in tqdm(range(rg)):\n",
    "    current_df = pd.DataFrame(columns=['timemodified', 'itemid', 'userid', 'rawgrade', 'rawgrademax',\n",
    "                                       'rawgrademin', 'time_modified', 'year', 'month', 'grade', 'year_norm'])    \n",
    "    for x in user_df.groups:\n",
    "        if len(user_df.get_group(x))>i:\n",
    "            n = pd.DataFrame(user_df.get_group(x))\n",
    "            a = n.iloc[[i]]\n",
    "            current_df = current_df.append(a, ignore_index=True)\n",
    "    all_dataframes.append(current_df)\n",
    "    all_dataframes_grades.append(current_df['grade'])"
   ]
  },
  {
   "cell_type": "code",
   "execution_count": 8,
   "id": "2c50e30b-386c-4d15-92be-164aad9d86e3",
   "metadata": {},
   "outputs": [],
   "source": [
    "def train_split_fun(df, ratio = 0.8, seed = 123, userid = \"userid\"):\n",
    "    \"\"\"\n",
    "    With that function we can use the same splits of datasets and \n",
    "    keep each individual student only in one split. \n",
    "    The splitting ratio follows asymptotically the given value.\n",
    "    \n",
    "    Parameters\n",
    "    ----------\n",
    "    df : The pandas dataframe to be splited. It should include\n",
    "        a variable with IDs\n",
    "    ratio: The percentage of data to be added in the train spli.\n",
    "        Default 0.8 (80%)\n",
    "    seed: The seed for generated the random splits. Default 123.\n",
    "    userid: The name of the variable who defines the users in the\n",
    "        original dataframe. Default \"userid\".\n",
    "        \n",
    "    Returns\n",
    "    -------\n",
    "    Two DataFrame\n",
    "        Train: A split of the original according to ratio.\n",
    "        Test: The other 1-ratio part of dataset.\n",
    "    \"\"\"\n",
    "    users = df[userid].value_counts().rename_axis(userid).reset_index(name='counts')\n",
    "    size = ratio*sum(users['counts'])\n",
    "    train_split = set()\n",
    "    counts = 0 \n",
    "    shuffled = users.sample(n=min(size, users[userid].nunique()), replace = False, random_state = seed)\n",
    "    for _, user, count in shuffled.itertuples():\n",
    "        train_split.add(user)\n",
    "        counts += count\n",
    "        if counts >= size:\n",
    "            break\n",
    "    train = df[df[userid].isin(train_split)]\n",
    "    mask = df[userid].isin(train[userid])\n",
    "    test = df[~mask]\n",
    "    return train, test"
   ]
  },
  {
   "cell_type": "code",
   "execution_count": 9,
   "id": "801e0e69-c744-42f8-8161-7cbd33ab4cfa",
   "metadata": {
    "tags": []
   },
   "outputs": [],
   "source": [
    "def StudentSimulator3(df, size, grades='grade', userid='userid', quizid='quizid', \n",
    "                      courseid='courseid', random_state=123):\n",
    "    \n",
    "    \"\"\"\n",
    "    StudentSimulator3 simulates data based on \n",
    "    real student data. Giving a educational dataset\n",
    "    can reproduce it and return simulated student attempts.\n",
    "\n",
    "    :df: The pandas dataframe to be reproduced \n",
    "    :size: Final amount of observations \n",
    "    :grades: Name of the column which contain grades in scale 0 to 100 (Default: grade)\n",
    "    :userid: Name of the column which contain users (Default: userid)\n",
    "    :quizid: Name of the column which contain quizzes (Default: quizid)\n",
    "    :courseid: Name of the column which contain courses (Default: courseid)\n",
    "    :random_state: The seed which fixes the randomness\n",
    "    :return: Returns a pd dataframe with student grades simulated from real data\n",
    "    with real properties.\n",
    "    \"\"\"\n",
    "    \n",
    "    if isinstance(df, pd.DataFrame):\n",
    "        #Setting the seed\n",
    "        if random_state != None:\n",
    "            np.random.seed(random_state)\n",
    "\n",
    "        #Creating the output dataframe\n",
    "        newdf = pd.DataFrame()\n",
    "\n",
    "        #Gather the unique users\n",
    "        users = df['userid'].unique()\n",
    "\n",
    "        #Simulate students and reindexing\n",
    "        ids = np.array(range(1, size+1))\n",
    "        newuserid = []\n",
    "        counter = 0\n",
    "\n",
    "        while len(newdf) <= size:\n",
    "            counter += 1\n",
    "            user = int(np.random.choice(users, 1))\n",
    "            t = df[userid]==user\n",
    "            newdf = newdf.append(df[t]) \n",
    "            newuserid.append([counter]*t.sum())\n",
    "\n",
    "        newuserid = [item for sublist in newuserid for item in sublist]\n",
    "        newdf[userid] = newuserid\n",
    "\n",
    "        newdf = newdf.reset_index()\n",
    "\n",
    "        #Random remove the excess amount of observations \n",
    "        if len(newdf) > size:\n",
    "            remove_n = len(newdf) - size\n",
    "            drop_indices = np.random.choice(newdf.index, remove_n, replace=False)\n",
    "            newdf1 = newdf.drop(drop_indices)\n",
    "\n",
    "        #Adding random noise to real data and fixing the final output\n",
    "        newdf1[grades] = newdf1[grades] + np.random.normal(0, 3, size)\n",
    "\n",
    "        newdf1[grades].where(newdf1[grades]<100, 100, inplace=True)\n",
    "        newdf1[grades].where(newdf1[grades]>=0, 0, inplace=True)    \n",
    "\n",
    "        newdf1[grades] = newdf1[grades].round(2)\n",
    "        newdf1 = newdf1.reset_index().drop(['level_0', 'index'], axis=1)\n",
    "\n",
    "        #Reindexing items and courses for anonymity \n",
    "        if quizid in df.columns:\n",
    "            df_n = newdf1.sort_values(quizid, inplace=True)\n",
    "            df_n = newdf1.reset_index()\n",
    "            item = df_n[quizid].to_list()\n",
    "            from itertools import accumulate\n",
    "            indexes  = range(len(item))\n",
    "            byGroup  = accumulate(indexes,lambda i,u: (i+1)*(u>0 and item[u-1]==item[u]))\n",
    "            indexes  = [i-1 for i in accumulate(int(g==0) for g in byGroup)]\n",
    "            indexAndItem = [(i,u) for i,u in zip(indexes,item)]\n",
    "            new_item = pd.DataFrame([(i,u) for i,u in zip(indexes,item)], columns=['new_item', 'old_item'])\n",
    "\n",
    "            df_n[quizid] = new_item['new_item']\n",
    "            df_n = df_n.drop('index', axis=1)\n",
    "\n",
    "        if courseid in df.columns:    \n",
    "            df_n1 = df_n.sort_values(courseid, inplace=True)\n",
    "            df_n1 = df_n.reset_index()\n",
    "            course = df_n[courseid].to_list()\n",
    "            from itertools import accumulate\n",
    "            indexes  = range(len(course))\n",
    "            byGroup  = accumulate(indexes,lambda i,u: (i+1)*(u>0 and course[u-1]==course[u]))\n",
    "            indexes  = [i-1 for i in accumulate(int(g==0) for g in byGroup)]\n",
    "            indexAndcourse = [(i,u) for i,u in zip(indexes,course)]\n",
    "            new_course = pd.DataFrame([(i,u) for i,u in zip(indexes,course)], columns=['new_course', 'old_course'])\n",
    "\n",
    "            df_n1[courseid] = new_course['new_course']\n",
    "            df_n1 = df_n1.drop('index', axis=1)\n",
    "\n",
    "        newdf = df_n1.sample(frac=1).reset_index(drop=True)\n",
    "        newdf = newdf[[userid, courseid, quizid, grades, 'time_modified']]\n",
    "        return newdf\n",
    "    \n",
    "    else:\n",
    "        raise TypeError('The imported object is not a pandas.DataFrame. Please import a pandas.DataFrame type.')            "
   ]
  },
  {
   "cell_type": "code",
   "execution_count": 10,
   "id": "180ad1eb-7313-41f4-99e7-7e4154fc51a7",
   "metadata": {
    "tags": []
   },
   "outputs": [],
   "source": [
    "a = StudentSimulator3(df=df, size=200000, grades='grade', userid='userid', quizid='itemid', courseid='course', random_state=123)"
   ]
  },
  {
   "cell_type": "code",
   "execution_count": 11,
   "id": "91871ecd",
   "metadata": {},
   "outputs": [
    {
     "name": "stdout",
     "output_type": "stream",
     "text": [
      "False\n"
     ]
    }
   ],
   "source": [
    "# Applying the method\n",
    "check_nan = a['userid'].isnull().values.any()\n",
    "\n",
    "# printing the result\n",
    "print(check_nan)"
   ]
  },
  {
   "cell_type": "code",
   "execution_count": null,
   "id": "c91fd579-5b58-4935-9b0e-ef4396ba8a8f",
   "metadata": {},
   "outputs": [
    {
     "name": "stderr",
     "output_type": "stream",
     "text": [
      "  0%|                                                   | 0/137 [00:00<?, ?it/s]"
     ]
    }
   ],
   "source": [
    "#user_df = x[[\"id\", \"userid\", \"quizid\", \"attempts\", \"courseid\", \"time_used\", \"grade\"]]\n",
    "all_dataframes = []\n",
    "user_df = a.groupby('userid')    \n",
    " \n",
    "rg = user_df.size().max()-1\n",
    "\n",
    "for i in tqdm(range(rg)):\n",
    "    current_df = pd.DataFrame(columns=['id', 'userid', 'quizid', 'attempts', 'courseid', 'time_used', 'grade'])    \n",
    "    for x in user_df.groups:\n",
    "        if len(user_df.get_group(x))>i:\n",
    "            n = pd.DataFrame(user_df.get_group(x))\n",
    "            a = n.iloc[[i]]\n",
    "            current_df = current_df.append(a, ignore_index=True)\n",
    "    all_dataframes.append(current_df)\n"
   ]
  },
  {
   "cell_type": "code",
   "execution_count": null,
   "id": "18db5ede-5ca1-4c84-935f-df6321a24694",
   "metadata": {},
   "outputs": [],
   "source": [
    "import statsmodels.stats.api as sms\n",
    "avg = []\n",
    "std = []\n",
    "ci_l = []\n",
    "ci_u = []\n",
    "for i in range(len(all_dataframes)):\n",
    "    avg.append(all_dataframes[i]['grade'].mean())\n",
    "    std.append(all_dataframes[i]['grade'].std())\n",
    "    ci_l.append(sms.DescrStatsW(all_dataframes[i]['grade']).tconfint_mean()[0])\n",
    "    ci_u.append(sms.DescrStatsW(all_dataframes[i]['grade']).tconfint_mean()[1])\n",
    "    stat = pd.DataFrame({'avg_grades':avg, 'std_grades':std, 'ci_low':ci_l, 'ci_up':ci_u})"
   ]
  },
  {
   "cell_type": "code",
   "execution_count": null,
   "id": "2e31f1a5-4a0c-4522-b3fa-08cf5cc0d4ad",
   "metadata": {},
   "outputs": [],
   "source": [
    "stat['ci_low'].where(stat['ci_low'] >= 0, 0, inplace=True)\n",
    "stat['ci_up'].where(stat['ci_up'] < 100, 100, inplace=True)"
   ]
  },
  {
   "cell_type": "code",
   "execution_count": null,
   "id": "6a9d65a4-2888-4ff1-b451-43ba1326f44c",
   "metadata": {},
   "outputs": [],
   "source": [
    "plt.figure(figsize=(32,10), dpi=400)\n",
    "plt.xlim(0,250)\n",
    "plt.plot(stat.index, stat['avg_grades'], color='blue', lw=2)\n",
    "plt.plot(stat.index, stat['ci_low'], color='blue', linestyle=\"--\", label='_nolegend_')\n",
    "plt.plot(stat.index, stat['ci_up'], color='blue', linestyle=\"--\", label='_nolegend_')\n",
    "plt.fill_between(stat.index, stat['ci_low'], stat['ci_up'], color='dimgrey', alpha=0.1, animated=True)\n",
    "plt.gca().set(title='Performance of students per attempt', xlabel='Attempt', ylabel='Average Grades')\n",
    "plt.axhline(y=stat['avg_grades'].mean(), color='gold', lw=2)\n",
    "plt.xticks(np.arange(0,250,5))\n",
    "plt.legend(['Average grade of attempt', 'Confidence interval', 'Average grade of all attempts'], loc=2)\n",
    "plt.show()"
   ]
  }
 ],
 "metadata": {
  "kernelspec": {
   "display_name": "Python 3 (ipykernel)",
   "language": "python",
   "name": "python3"
  },
  "language_info": {
   "codemirror_mode": {
    "name": "ipython",
    "version": 3
   },
   "file_extension": ".py",
   "mimetype": "text/x-python",
   "name": "python",
   "nbconvert_exporter": "python",
   "pygments_lexer": "ipython3",
   "version": "3.8.10"
  }
 },
 "nbformat": 4,
 "nbformat_minor": 5
}
